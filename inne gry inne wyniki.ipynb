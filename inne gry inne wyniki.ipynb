{
 "cells": [
  {
   "cell_type": "code",
   "execution_count": 1,
   "metadata": {},
   "outputs": [],
   "source": [
    "from bs4 import BeautifulSoup\n",
    "import requests\n",
    "import pandas as pd"
   ]
  },
  {
   "cell_type": "code",
   "execution_count": 2,
   "metadata": {},
   "outputs": [],
   "source": [
    "def drugi_etap_wyniki(url):\n",
    "    r = requests.get(url)\n",
    "    soup = BeautifulSoup(r.text)\n",
    "    table = soup.findAll(\"table\")[0]\n",
    "    df = pd.read_html(str(table), header=0)[0]\n",
    "    if \"lp\" in df.columns:\n",
    "        df[\"lp.\"] = df[\"lp\"]\n",
    "    if \"Lp.\" in df.columns:\n",
    "        df[\"lp.\"] = df[\"Lp.\"]\n",
    "    df[\"name\"] = (df[\"imię\"] + \" \" + df[\"nazwisko\"])\n",
    "    return df[[\"lp.\", \"name\"]]"
   ]
  },
  {
   "cell_type": "code",
   "execution_count": 3,
   "metadata": {},
   "outputs": [],
   "source": [
    "def final_wyniki(url):\n",
    "    def update_unknown_lp(df):\n",
    "        num = df[\"lp.\"][0]\n",
    "        df[\"lp.\"] = [num]* len(df)\n",
    "    r = requests.get(url)\n",
    "    soup = BeautifulSoup(r.text)\n",
    "    tables = soup.findAll(\"table\", {\"class\":\"results_table\"})\n",
    "    dfs = [pd.read_html(str(table), header=0)[0] for table in tables]\n",
    "    update_unknown_lp(dfs[-1])\n",
    "    dfs = [df[[\"lp.\", \"imię i nazwisko\"]] for df in dfs]\n",
    "    final_df = pd.concat(dfs)\n",
    "    final_df[\"name\"] = final_df[\"imię i nazwisko\"]\n",
    "    return final_df.reset_index()[[\"lp.\", \"name\"]]"
   ]
  },
  {
   "cell_type": "code",
   "execution_count": 4,
   "metadata": {},
   "outputs": [],
   "source": [
    "def longestCommonPrefix(strs):\n",
    "    longest_pre = \"\"\n",
    "    if not strs: \n",
    "        return longest_pre\n",
    "    shortest_str = min(strs, key=len)\n",
    "    for i in range(len(shortest_str)):\n",
    "        if all([x.startswith(shortest_str[:i+1]) for x in strs]):\n",
    "            longest_pre = shortest_str[:i+1]\n",
    "        else:\n",
    "            break\n",
    "    return longest_pre"
   ]
  },
  {
   "cell_type": "code",
   "execution_count": 5,
   "metadata": {},
   "outputs": [],
   "source": [
    "def longestCommonSuffix(strs):\n",
    "    strs = [s[::-1] for s in strs]\n",
    "    return longestCommonPrefix(strs)[::-1]"
   ]
  },
  {
   "cell_type": "code",
   "execution_count": 6,
   "metadata": {},
   "outputs": [],
   "source": [
    "def podobnosc(strs):\n",
    "    return len(longestCommonPrefix(strs)) + len(longestCommonSuffix(strs))"
   ]
  },
  {
   "cell_type": "code",
   "execution_count": 7,
   "metadata": {},
   "outputs": [],
   "source": [
    "def repair_names(df2, df3):\n",
    "    x = list(set(df2[\"name\"]) - set(df3[\"name\"]))\n",
    "    y = list(set(df3[\"name\"]) - set(df2[\"name\"]))\n",
    "    assert(len(x) == len(y))\n",
    "    names2 = list(df2[\"name\"])\n",
    "    for a in x:\n",
    "        z = [(podobnosc([a, b]), b) for b in y]\n",
    "        names2 = [max(z)[1] if aa == a else aa for aa in names2]\n",
    "    df2[\"name\"] = names2\n",
    "    assert(set(df2[\"name\"]) == set(df3[\"name\"]))\n",
    "    assert(len(df2) == len(df3))"
   ]
  },
  {
   "cell_type": "code",
   "execution_count": 8,
   "metadata": {},
   "outputs": [],
   "source": [
    "def get_oi_table(i):\n",
    "    try:\n",
    "        df2 = drugi_etap_wyniki(\"https://oi.edu.pl/l/{}oi_2etap_wyniki/\".format(i))\n",
    "    except Exception as e:\n",
    "        print(\"error drugi etap {}\".format(i))\n",
    "        print(e)\n",
    "    try:\n",
    "        df3 = final_wyniki(\"https://oi.edu.pl/l/{}oi_3etap_wyniki/\".format(i))\n",
    "    except:\n",
    "        print(\"error final {}\".format(i))\n",
    "    \n",
    "    repair_names(df2, df3)\n",
    "    df2[\"2etap\"] = df2[\"lp.\"]\n",
    "    df3[\"3etap\"] = df3[\"lp.\"]\n",
    "    return df2[[\"2etap\", \"name\"]].merge(df3[[\"3etap\", \"name\"]], on=\"name\")"
   ]
  },
  {
   "cell_type": "code",
   "execution_count": 9,
   "metadata": {},
   "outputs": [
    {
     "name": "stdout",
     "output_type": "stream",
     "text": [
      "18 OI\n",
      "Wśród 35 wannabe laureatów 12 by nie dostało laureata. Jest to 34.29%\n",
      "\n",
      "19 OI\n",
      "Wśród 46 wannabe laureatów 17 by nie dostało laureata. Jest to 36.96%\n",
      "\n",
      "20 OI\n",
      "Wśród 48 wannabe laureatów 16 by nie dostało laureata. Jest to 33.33%\n",
      "\n",
      "21 OI\n",
      "Wśród 49 wannabe laureatów 16 by nie dostało laureata. Jest to 32.65%\n",
      "\n",
      "22 OI\n",
      "Wśród 49 wannabe laureatów 17 by nie dostało laureata. Jest to 34.69%\n",
      "\n",
      "23 OI\n",
      "Wśród 48 wannabe laureatów 14 by nie dostało laureata. Jest to 29.17%\n",
      "\n",
      "24 OI\n",
      "Wśród 47 wannabe laureatów 13 by nie dostało laureata. Jest to 27.66%\n",
      "\n",
      "25 OI\n",
      "Wśród 48 wannabe laureatów 15 by nie dostało laureata. Jest to 31.25%\n",
      "\n",
      "26 OI\n",
      "Wśród 47 wannabe laureatów 17 by nie dostało laureata. Jest to 36.17%\n",
      "\n"
     ]
    }
   ],
   "source": [
    "for oi in range(18, 27):\n",
    "    print(\"{} OI\".format(oi))\n",
    "    df = get_oi_table(oi)\n",
    "    finalists = len(df)\n",
    "    laureates = min(finalists // 2, max(df[\"3etap\"]) - 1)\n",
    "    #print(df[[\"2etap\", \"3etap\"]].corr())\n",
    "    wannabe_laureates = df[:laureates]\n",
    "    x = len(wannabe_laureates)\n",
    "    y = len(wannabe_laureates.loc[wannabe_laureates[\"3etap\"] > laureates])\n",
    "    print(\"Wśród {} wannabe laureatów {} by nie dostało laureata. Jest to {:.2f}%\".format(x, y, 100.0 * y / x))\n",
    "    print(\"\", flush=True)"
   ]
  },
  {
   "cell_type": "code",
   "execution_count": null,
   "metadata": {},
   "outputs": [],
   "source": []
  }
 ],
 "metadata": {
  "kernelspec": {
   "display_name": "Python 3",
   "language": "python",
   "name": "python3"
  },
  "language_info": {
   "codemirror_mode": {
    "name": "ipython",
    "version": 3
   },
   "file_extension": ".py",
   "mimetype": "text/x-python",
   "name": "python",
   "nbconvert_exporter": "python",
   "pygments_lexer": "ipython3",
   "version": "3.6.9"
  }
 },
 "nbformat": 4,
 "nbformat_minor": 4
}
